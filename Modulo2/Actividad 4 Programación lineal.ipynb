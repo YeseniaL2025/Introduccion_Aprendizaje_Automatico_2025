{
 "cells": [
  {
   "cell_type": "markdown",
   "metadata": {},
   "source": [
    "<img style=\"float: left;;\" src='Figures/alinco.png' /></a>\n",
    "    \n",
    "# <center> <font color= #000047> Actividad 4: Programación lineal ( Ejercicios )</font>\n",
    "___\n",
    "\n"
   ]
  },
  {
   "cell_type": "markdown",
   "metadata": {},
   "source": [
    "### 1. Diseño de la Dieta Óptima\n",
    "\n",
    "Se quiere producir comida para gatos de la manera más barata, no obstante se debe también asegurar que se cumplan los datos requeridos de analisis nutricional. Por lo que se quiere variar la cantidad de cada ingrediente para cumplir con los estandares nutricionales. Los requisitos que se tienen es que en 100 gramos, se deben tener por lo menos 8 gramos de proteína y 6 gramos de grasa. Así mismo, no se debe tener más de 2 gramos de fibra y 0.4 gramos de sal.  \n",
    "\n",
    "Los datos nutricionales se pueden obtener de la siguiente tabla:\n",
    "\n",
    "|Ingrediente|Proteína|Grasa|Fibra|Sal|\n",
    "|----|---- |---- |---- |---- |\n",
    "|Pollo|  10.0%|08.0%|00.1%|00.2%\n",
    "|Carne|  20.0%|10.0%|00.5%|00.5%\n",
    "|Cordero|15.0%|11.0%|00.5%|00.7%\n",
    "|Arroz|  00.0%|01.0%|10.0%|00.2%\n",
    "|Trigo|  04.0%|01.0%|15.0%|00.8%\n",
    "|Gel|    00.0%|00.0%|00.0%|00.0%\n",
    "\n",
    "Los costos de cada producto son:\n",
    "\n",
    "Ingrediente|Costo por gramo\n",
    ":----|----\n",
    "Pollo|$\\$$0.013\n",
    "Carne|$\\$$0.008\n",
    "Cordero|$\\$$0.010\n",
    "Arroz|$\\$$0.002\n",
    "Trigo|$\\$$0.005\n",
    "Gel|$\\$$0.001    \n",
    "\n",
    "Lo que se busca optimizar en este caso es la cantidad de productos que se debe utilizar en la comida de gato, para simplificar la notación se van a nombrar las siguientes variables: \n",
    "\n",
    "$x_1:$ Gramos de pollo  \n",
    "$x_2:$ Gramos de carne  \n",
    "$x_3:$ Gramos de cordero  \n",
    "$x_4:$ Gramos de arroz  \n",
    "$x_5:$ Gramos de trigo  \n",
    "$x_6:$ Gramos de gel  \n",
    "\n",
    "Con los datos, se puede plantear la función objetivo, está dada por la siguiente expresión:\n",
    "\n",
    "$$\\min 0.013 x_1 + 0.008 x_2 + 0.010 x_3 + 0.002 x_4 + 0.005 x_5 + 0.001 x_6$$\n",
    "\n",
    "Las restricciones estarían dadas por el siguiente conjunto de ecuaciones:\n",
    "\n",
    "$x_1+x_2+x_3+x_4+x_5+x_6=100$  \n",
    "\n",
    "$(10.0 x_1+ 20.0 x_2+ 15.0 x_3+ 00.0 x_4+ 04.0 x_5+ 00.0 x_6)/100 \\geq 8.0$  \n",
    "\n",
    "$(08.0 x_1+ 10.0 x_2+ 11.0 x_3+ 01.0 x_4+ 01.0 x_5+ 00.0 x_6)/100 \\geq 6.0$  \n",
    "\n",
    "$(00.1 x_1+ 00.5 x_2+ 00.5 x_3+ 10.0 x_4+ 15.0 x_5+ 00.0 x_6)/100 \\leq 2.0$  \n",
    "\n",
    "$(00.2 x_1+ 00.5 x_2+ 00.7 x_3+ 00.2 x_4+ 00.8 x_5+ 00.0 x_6)/100 \\leq 0.4$  \n",
    "\n",
    "La primer condición asegura que la cantidad de productos que se usará cumple con los 100 gramos. Las siguientes sólo siguen los lineamientos planteados para cumplir con los requisitos nutrimentales. "
   ]
  },
  {
   "cell_type": "code",
   "execution_count": 7,
   "metadata": {},
   "outputs": [
    {
     "name": "stdout",
     "output_type": "stream",
     "text": [
      "Requirement already satisfied: pulp in c:\\users\\sony\\anaconda3\\lib\\site-packages (3.3.0)\n"
     ]
    }
   ],
   "source": [
    "!pip install pulp"
   ]
  },
  {
   "cell_type": "code",
   "execution_count": null,
   "metadata": {},
   "outputs": [],
   "source": [
    "\n",
    "import pulp\n",
    "print(\"Solvers disponibles:\", pulp.listSolvers(onlyAvailable=True))\n"
   ]
  },
  {
   "cell_type": "code",
   "execution_count": 8,
   "metadata": {},
   "outputs": [],
   "source": [
    "prob = pulp.LpProblem(\"Dieta_Optima\", pulp.LpMinimize)\n",
    "\n",
    "x1 = pulp.LpVariable(\"Pollo\", lowBound=0)\n",
    "x2 = pulp.LpVariable(\"Carne\", lowBound=0)\n",
    "x3 = pulp.LpVariable(\"Pescado\", lowBound=0)\n",
    "x4 = pulp.LpVariable(\"Arroz\", lowBound=0)\n",
    "x5 = pulp.LpVariable(\"Avena\", lowBound=0)\n",
    "x6 = pulp.LpVariable(\"Gel\", lowBound=0)\n",
    "\n",
    "prob += (\n",
    "    0.01*x1 + \n",
    "    0.008*x2 + \n",
    "    0.012*x3 + \n",
    "    0.004*x4 + \n",
    "    0.005*x5 + \n",
    "    0.006*x6,\n",
    "    \"Costo_Total\"\n",
    ")\n",
    "\n",
    "prob += 0.2*x1 + 0.3*x2 + 0.25*x3 + 0.05*x5 >= 8.0, \"Proteinas\"\n",
    "prob += 0.08*x1 + 0.1*x2 + 0.1*x3 + 0.01*x4 + 0.01*x5 >= 2.0, \"Grasa\"\n",
    "prob += 0.1*x4 + 0.15*x5 >= 2.4, \"Fibra\"\n",
    "prob += 0.002*x1 + 0.005*x2 + 0.004*x3 + 0.002*x4 + 0.008*x5 + 0.001*x6 <= 0.4, \"Sal\"\n",
    "prob += x1 + x2 + x3 + x4 + x5 + x6 == 100, \"Total_Gramos\""
   ]
  },
  {
   "cell_type": "code",
   "execution_count": 11,
   "metadata": {},
   "outputs": [
    {
     "name": "stdout",
     "output_type": "stream",
     "text": [
      "Estado de la solución: Optimal\n",
      "Ingredientes óptimos para la dieta:\n",
      "\n",
      "Arroz: 73.33 g\n",
      "Avena: 0.00 g\n",
      "Carne: 26.67 g\n",
      "Gel: 0.00 g\n",
      "Pescado: 0.00 g\n",
      "Pollo: 0.00 g\n",
      "\n",
      " Costo total de la dieta: $0.5067\n"
     ]
    }
   ],
   "source": [
    "resultado = prob.solve(pulp.PULP_CBC_CMD())\n",
    "print(\"Estado de la solución:\", pulp.LpStatus[prob.status])\n",
    "\n",
    "if pulp.LpStatus[prob.status] == \"Optimal\":\n",
    "    print(\"Ingredientes óptimos para la dieta:\\n\")\n",
    "    for variable in prob.variables():\n",
    "        print(f\"{variable.name}: {variable.varValue:.2f} g\")\n",
    "\n",
    "    print(f\"\\n Costo total de la dieta: ${pulp.value(prob.objective):.4f}\")\n",
    "else:\n",
    "    print(\"No se encontró una solución óptima. Verifica las restricciones.\")"
   ]
  },
  {
   "cell_type": "markdown",
   "metadata": {},
   "source": [
    "### 2. Otro problema de transporte\n",
    "\n",
    "Supongamos que tenemos que enviar cajas de cervezas de 2 cervecerías (Modelo y Cuauhtémoc Moctezuma) a 5 bares de acuerdo al siguiente gráfico:\n",
    "\n",
    "<img style=\"float: center; margin: 0px 0px 15px 15px;\" src=\"https://relopezbriega.github.io/images/Trans_problem.png\" width=\"500px\" height=\"150px\" />\n",
    "\n",
    "Asimismo, supongamos que nuestro gerente financiero nos informa que el costo de transporte por caja de cada ruta se conforma de acuerdo a la siguiente tabla:"
   ]
  },
  {
   "cell_type": "code",
   "execution_count": 16,
   "metadata": {},
   "outputs": [
    {
     "data": {
      "text/html": [
       "<div>\n",
       "<style scoped>\n",
       "    .dataframe tbody tr th:only-of-type {\n",
       "        vertical-align: middle;\n",
       "    }\n",
       "\n",
       "    .dataframe tbody tr th {\n",
       "        vertical-align: top;\n",
       "    }\n",
       "\n",
       "    .dataframe thead th {\n",
       "        text-align: right;\n",
       "    }\n",
       "</style>\n",
       "<table border=\"1\" class=\"dataframe\">\n",
       "  <thead>\n",
       "    <tr style=\"text-align: right;\">\n",
       "      <th></th>\n",
       "      <th>Bar1</th>\n",
       "      <th>Bar2</th>\n",
       "      <th>Bar3</th>\n",
       "      <th>Bar4</th>\n",
       "      <th>Bar5</th>\n",
       "    </tr>\n",
       "  </thead>\n",
       "  <tbody>\n",
       "    <tr>\n",
       "      <th>CerveceriaA</th>\n",
       "      <td>2</td>\n",
       "      <td>4</td>\n",
       "      <td>5</td>\n",
       "      <td>2</td>\n",
       "      <td>1</td>\n",
       "    </tr>\n",
       "    <tr>\n",
       "      <th>CerveceriaB</th>\n",
       "      <td>3</td>\n",
       "      <td>1</td>\n",
       "      <td>3</td>\n",
       "      <td>2</td>\n",
       "      <td>3</td>\n",
       "    </tr>\n",
       "  </tbody>\n",
       "</table>\n",
       "</div>"
      ],
      "text/plain": [
       "             Bar1  Bar2  Bar3  Bar4  Bar5\n",
       "CerveceriaA     2     4     5     2     1\n",
       "CerveceriaB     3     1     3     2     3"
      ]
     },
     "execution_count": 16,
     "metadata": {},
     "output_type": "execute_result"
    }
   ],
   "source": [
    "#Crear dataframe\n",
    "import pandas as pd\n",
    "from scipy.optimize import linprog\n",
    "\n",
    "info = pd.DataFrame({'Bar1': [2, 3], 'Bar2': [4, 1], 'Bar3': [5, 3], 'Bar4': [2, 2], 'Bar5': [1, 3]}, index = ['CerveceriaA', 'CerveceriaB'])\n",
    "info"
   ]
  },
  {
   "cell_type": "markdown",
   "metadata": {},
   "source": [
    "Y por último, las restricciones del problema, van a estar dadas por las capacidades de oferta y demanda de cada cervecería (en cajas de cerveza) y cada bar, las cuales se detallan en el gráfico de más arriba.\n",
    "\n",
    "Sean:\n",
    "- $x_i$ cajas transportadas de la cervecería A al Bar $i$,\n",
    "- $x_{i+5}$ cajas transportadas de la cervecería B al Bar $i$.\n",
    "\n",
    "Plantear el problema de minimizar el costo de transporte de la forma vista y resolverlo con `linprog`. \n",
    "\n"
   ]
  },
  {
   "cell_type": "code",
   "execution_count": 18,
   "metadata": {},
   "outputs": [
    {
     "name": "stdout",
     "output_type": "stream",
     "text": [
      "\n",
      " Solución óptima encontrada:\n",
      "Costo total mínimo: $10300.00\n",
      "\n",
      "Distribución de cajas desde Cervecería A:\n",
      "  A → Bar 1: 0 cajas\n",
      "  A → Bar 2: 0 cajas\n",
      "  A → Bar 3: 0 cajas\n",
      "  A → Bar 4: 0 cajas\n",
      "  A → Bar 5: 1000 cajas\n",
      "\n",
      "Distribución de cajas desde Cervecería B:\n",
      "  B → Bar 1: 500 cajas\n",
      "  B → Bar 2: 700 cajas\n",
      "  B → Bar 3: 900 cajas\n",
      "  B → Bar 4: 1000 cajas\n",
      "  B → Bar 5: 800 cajas\n"
     ]
    }
   ],
   "source": [
    "c = info.to_numpy().flatten()\n",
    "\n",
    "A_ub = [\n",
    "    [1, 1, 1, 1, 1, 0, 0, 0, 0, 0],  # Cervecería A (oferta = 1000)\n",
    "    [0, 0, 0, 0, 0, 1, 1, 1, 1, 1]   # Cervecería B (oferta = 4000)\n",
    "]\n",
    "b_ub = [1000, 4000]\n",
    "\n",
    "\n",
    "A_eq = [\n",
    "    [1, 0, 0, 0, 0, 1, 0, 0, 0, 0],  # Bar 1 (demanda = 500)\n",
    "    [0, 1, 0, 0, 0, 0, 1, 0, 0, 0],  # Bar 2 (demanda = 700)\n",
    "    [0, 0, 1, 0, 0, 0, 0, 1, 0, 0],  # Bar 3 (demanda = 900)\n",
    "    [0, 0, 0, 1, 0, 0, 0, 0, 1, 0],  # Bar 4 (demanda = 1000)\n",
    "    [0, 0, 0, 0, 1, 0, 0, 0, 0, 1]   # Bar 5 (demanda = 1800)\n",
    "]\n",
    "b_eq = [500, 700, 900, 1000, 1800]\n",
    "\n",
    "\n",
    "x_bounds = [(0, None)] * 10\n",
    "\n",
    "\n",
    "res = linprog(c, A_ub=A_ub, b_ub=b_ub, A_eq=A_eq, b_eq=b_eq, bounds=x_bounds, method='highs')\n",
    "\n",
    "\n",
    "if res.success:\n",
    "    print(\"\\n Solución óptima encontrada:\")\n",
    "    print(f\"Costo total mínimo: ${res.fun:.2f}\\n\")\n",
    "    \n",
    "    print(\"Distribución de cajas desde Cervecería A:\")\n",
    "    for i in range(5):\n",
    "        print(f\"  A → Bar {i+1}: {res.x[i]:.0f} cajas\")\n",
    "\n",
    "    print(\"\\nDistribución de cajas desde Cervecería B:\")\n",
    "    for i in range(5, 10):\n",
    "        print(f\"  B → Bar {i-4}: {res.x[i]:.0f} cajas\")\n",
    "else:\n",
    "    print(\"No se encontró solución óptima.\")"
   ]
  },
  {
   "cell_type": "code",
   "execution_count": null,
   "metadata": {},
   "outputs": [],
   "source": []
  }
 ],
 "metadata": {
  "kernelspec": {
   "display_name": "Python 3 (ipykernel)",
   "language": "python",
   "name": "python3"
  },
  "language_info": {
   "codemirror_mode": {
    "name": "ipython",
    "version": 3
   },
   "file_extension": ".py",
   "mimetype": "text/x-python",
   "name": "python",
   "nbconvert_exporter": "python",
   "pygments_lexer": "ipython3",
   "version": "3.13.5"
  }
 },
 "nbformat": 4,
 "nbformat_minor": 4
}
