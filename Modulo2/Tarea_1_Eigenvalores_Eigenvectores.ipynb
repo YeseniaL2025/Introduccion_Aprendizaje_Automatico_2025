{
 "cells": [
  {
   "cell_type": "markdown",
   "id": "66ace54d",
   "metadata": {},
   "source": [
    "<img style=\"float: left;;\" src='Figures/alinco.png' /></a>\n",
    "    \n",
    "# <center> <font color= #000047> Tarea 1: Eigenvectores y Eigenvalores</font>\n",
    "___\n",
    "\n",
    "Esta tarea consiste en calcular eigenvalores y eigenvectores de matrices siguiendo el calculo a mano, usando la librería numpy y sympy.\n",
    "\n",
    "Los eigenvalores y eigenvectores son conceptos fundamentales en álgebra lineal y tienen aplicaciones en machine learning, física, ingeniería y más."
   ]
  },
  {
   "cell_type": "code",
   "execution_count": 4,
   "id": "c12e2314",
   "metadata": {},
   "outputs": [],
   "source": [
    "import numpy as np"
   ]
  },
  {
   "cell_type": "markdown",
   "id": "5128eaf8",
   "metadata": {},
   "source": [
    "**1. Calcula los eigenvalores y eigenvectores de la siguiente matriz:**\n",
    "\n",
    "$$A = \\begin{bmatrix} 4 & 2 \\\\ 1 & 3 \\end{bmatrix}$$"
   ]
  },
  {
   "cell_type": "code",
   "execution_count": 5,
   "id": "28f94ec6",
   "metadata": {},
   "outputs": [
    {
     "name": "stdout",
     "output_type": "stream",
     "text": [
      "1. Matriz A:\n",
      "Eigenvalores: [5. 2.]\n",
      "Eigenvectores:\n",
      " [[ 0.89442719 -0.70710678]\n",
      " [ 0.4472136   0.70710678]]\n",
      "\n",
      "\n"
     ]
    }
   ],
   "source": [
    "A = np.array([[4, 2],\n",
    "              [1, 3]])\n",
    "eigvals_A, eigvecs_A = np.linalg.eig(A)\n",
    "print(\"1. Matriz A:\")\n",
    "print(\"Eigenvalores:\", eigvals_A)\n",
    "print(\"Eigenvectores:\\n\", eigvecs_A)\n",
    "print(\"\\n\")"
   ]
  },
  {
   "cell_type": "markdown",
   "id": "50ab9c3b",
   "metadata": {},
   "source": [
    "**2. Calcula los eigenvalores y eigenvectores de la siguiente matriz:**\n",
    "\n",
    "$$B = \\begin{bmatrix} 2 & 0 \\\\ 0 & 5 \\end{bmatrix}$$"
   ]
  },
  {
   "cell_type": "code",
   "execution_count": 6,
   "id": "5703abf0",
   "metadata": {},
   "outputs": [
    {
     "name": "stdout",
     "output_type": "stream",
     "text": [
      "2. Matriz B:\n",
      "Eigenvalores: [2. 5.]\n",
      "Eigenvectores:\n",
      " [[1. 0.]\n",
      " [0. 1.]]\n",
      "\n",
      "\n"
     ]
    }
   ],
   "source": [
    "B = np.array([[2, 0],\n",
    "              [0, 5]])\n",
    "eigvals_B, eigvecs_B = np.linalg.eig(B)\n",
    "print(\"2. Matriz B:\")\n",
    "print(\"Eigenvalores:\", eigvals_B)\n",
    "print(\"Eigenvectores:\\n\", eigvecs_B)\n",
    "print(\"\\n\")"
   ]
  },
  {
   "cell_type": "markdown",
   "id": "a5d8abb6",
   "metadata": {},
   "source": [
    "**3. Eigenvalores y eigenvectores de una matriz 3x3**\n",
    "\n",
    "Calcula los eigenvalores y eigenvectores de la siguiente matriz:\n",
    "\n",
    "$$C = \\begin{bmatrix} 1 & 2 & 3 \\\\ 0 & 4 & 5 \\\\ 0 & 0 & 6 \\end{bmatrix}$$"
   ]
  },
  {
   "cell_type": "code",
   "execution_count": 7,
   "id": "dc150e72",
   "metadata": {},
   "outputs": [
    {
     "name": "stdout",
     "output_type": "stream",
     "text": [
      "3. Matriz C:\n",
      "Eigenvalores: [1. 4. 6.]\n",
      "Eigenvectores:\n",
      " [[1.         0.5547002  0.51084069]\n",
      " [0.         0.83205029 0.79818857]\n",
      " [0.         0.         0.31927543]]\n",
      "\n",
      "\n"
     ]
    }
   ],
   "source": [
    "C = np.array([[1, 2, 3],\n",
    "              [0, 4, 5],\n",
    "              [0, 0, 6]])\n",
    "eigvals_C, eigvecs_C = np.linalg.eig(C)\n",
    "print(\"3. Matriz C:\")\n",
    "print(\"Eigenvalores:\", eigvals_C)\n",
    "print(\"Eigenvectores:\\n\", eigvecs_C)\n",
    "print(\"\\n\")"
   ]
  },
  {
   "cell_type": "markdown",
   "id": "61642ded",
   "metadata": {},
   "source": [
    "**4. Calcula los eigenvalores y eigenvectores de la siguiente matriz:**\n",
    "\n",
    "$$D = \\begin{bmatrix} 0 & 1 \\\\ -2 & -3 \\end{bmatrix}$$"
   ]
  },
  {
   "cell_type": "code",
   "execution_count": 8,
   "id": "ab5dd7b2",
   "metadata": {},
   "outputs": [
    {
     "name": "stdout",
     "output_type": "stream",
     "text": [
      "4. Matriz D:\n",
      "Eigenvalores: [-1. -2.]\n",
      "Eigenvectores:\n",
      " [[ 0.70710678 -0.4472136 ]\n",
      " [-0.70710678  0.89442719]]\n",
      "\n",
      "\n"
     ]
    }
   ],
   "source": [
    "D = np.array([[0, 1],\n",
    "              [-2, -3]])\n",
    "eigvals_D, eigvecs_D = np.linalg.eig(D)\n",
    "print(\"4. Matriz D:\")\n",
    "print(\"Eigenvalores:\", eigvals_D)\n",
    "print(\"Eigenvectores:\\n\", eigvecs_D)\n",
    "print(\"\\n\")"
   ]
  },
  {
   "cell_type": "markdown",
   "id": "3843108c",
   "metadata": {},
   "source": [
    "**5. Crea una matriz cuadrada aleatoria de tamaño 4x4 y calcula sus eigenvalores y eigenvectores.**"
   ]
  },
  {
   "cell_type": "code",
   "execution_count": 9,
   "id": "842434ad",
   "metadata": {},
   "outputs": [
    {
     "name": "stdout",
     "output_type": "stream",
     "text": [
      "5. Matriz aleatoria 4x4:\n",
      "Matriz:\n",
      " [[0.5488135  0.71518937 0.60276338 0.54488318]\n",
      " [0.4236548  0.64589411 0.43758721 0.891773  ]\n",
      " [0.96366276 0.38344152 0.79172504 0.52889492]\n",
      " [0.56804456 0.92559664 0.07103606 0.0871293 ]]\n",
      "Eigenvalores: [ 2.28158836 -0.5139378  -0.22422772  0.53013911]\n",
      "Eigenvectores:\n",
      " [[ 0.52354106 -0.10090767  0.5285094  -0.1584302 ]\n",
      " [ 0.49196427  0.55773542 -0.43250014  0.36386336]\n",
      " [ 0.59384504  0.23102177 -0.57357157 -0.81262442]\n",
      " [ 0.36224851 -0.79080831  0.45236832  0.42678435]]\n"
     ]
    }
   ],
   "source": [
    "np.random.seed(0)  # Para reproducibilidad\n",
    "E = np.random.rand(4,4)\n",
    "eigvals_E, eigvecs_E = np.linalg.eig(E)\n",
    "print(\"5. Matriz aleatoria 4x4:\")\n",
    "print(\"Matriz:\\n\", E)\n",
    "print(\"Eigenvalores:\", eigvals_E)\n",
    "print(\"Eigenvectores:\\n\", eigvecs_E)"
   ]
  },
  {
   "cell_type": "code",
   "execution_count": null,
   "id": "ddf34ea9-5bcb-4d4c-8fab-77d1d314ec92",
   "metadata": {},
   "outputs": [],
   "source": []
  },
  {
   "cell_type": "code",
   "execution_count": null,
   "id": "389a5dcd-f5f3-4839-b647-acdcda8126fc",
   "metadata": {},
   "outputs": [],
   "source": []
  }
 ],
 "metadata": {
  "kernelspec": {
   "display_name": "Python [conda env:base] *",
   "language": "python",
   "name": "conda-base-py"
  },
  "language_info": {
   "codemirror_mode": {
    "name": "ipython",
    "version": 3
   },
   "file_extension": ".py",
   "mimetype": "text/x-python",
   "name": "python",
   "nbconvert_exporter": "python",
   "pygments_lexer": "ipython3",
   "version": "3.13.5"
  }
 },
 "nbformat": 4,
 "nbformat_minor": 5
}
