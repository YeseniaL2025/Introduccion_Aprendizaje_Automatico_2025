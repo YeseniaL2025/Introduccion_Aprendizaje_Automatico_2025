{
 "cells": [
  {
   "cell_type": "markdown",
   "metadata": {},
   "source": [
    "\n",
    "<img style=\"float: left;;\" src='alinco.png' /></a>\n",
    "    \n",
    "\n",
    "# <center> <font color= #000047> Aprendizaje No Superviado: Kmeans Clustering Imagenes </font> </center>\n"
   ]
  },
  {
   "cell_type": "markdown",
   "metadata": {},
   "source": [
    "Elegir una imagen en blanco y negro de la carpeta `Imagenes` donde se puedan distinguir diferentes figuras para agrupar. Leer la imagen en una matriz de numpy. Definir y reescribir la matriz para tener pixeles en alto o en bajo. Encontrar las coordenadas en donde la matriz tiene pixeles negros. Aplicar el algoritmo de Kmeans sobre el arreglo de coordenadas usando el numero de agrupaciones necesarias de acuerdo a la imagen. Reconstruir la imagen identificando las figuras asociadas a cada grupo.\n",
    "\n",
    "<div class=\"alert alert-danger\" style=\"margin: 10px\"><strong>NOTA IMPORTANTE!</strong> En cada figura, tabla, o resultado que se incluya, se debe de incluir el código que se utilizó para obtenerlo.  <br> Todas las figuras (si las hubiera) deben de estar comentadas o descritas.</div>"
   ]
  },
  {
   "cell_type": "code",
   "execution_count": 1,
   "metadata": {},
   "outputs": [
    {
     "name": "stdout",
     "output_type": "stream",
     "text": [
      "Collecting opencv-python\n",
      "  Downloading opencv_python-4.12.0.88-cp37-abi3-win_amd64.whl.metadata (19 kB)\n",
      "Requirement already satisfied: matplotlib in c:\\users\\sony\\anaconda3\\lib\\site-packages (3.10.0)\n",
      "Requirement already satisfied: scikit-learn in c:\\users\\sony\\anaconda3\\lib\\site-packages (1.6.1)\n",
      "Requirement already satisfied: numpy<2.3.0,>=2 in c:\\users\\sony\\anaconda3\\lib\\site-packages (from opencv-python) (2.1.3)\n",
      "Requirement already satisfied: contourpy>=1.0.1 in c:\\users\\sony\\anaconda3\\lib\\site-packages (from matplotlib) (1.3.1)\n",
      "Requirement already satisfied: cycler>=0.10 in c:\\users\\sony\\anaconda3\\lib\\site-packages (from matplotlib) (0.11.0)\n",
      "Requirement already satisfied: fonttools>=4.22.0 in c:\\users\\sony\\anaconda3\\lib\\site-packages (from matplotlib) (4.55.3)\n",
      "Requirement already satisfied: kiwisolver>=1.3.1 in c:\\users\\sony\\anaconda3\\lib\\site-packages (from matplotlib) (1.4.8)\n",
      "Requirement already satisfied: packaging>=20.0 in c:\\users\\sony\\appdata\\roaming\\python\\python313\\site-packages (from matplotlib) (25.0)\n",
      "Requirement already satisfied: pillow>=8 in c:\\users\\sony\\anaconda3\\lib\\site-packages (from matplotlib) (11.1.0)\n",
      "Requirement already satisfied: pyparsing>=2.3.1 in c:\\users\\sony\\anaconda3\\lib\\site-packages (from matplotlib) (3.2.0)\n",
      "Requirement already satisfied: python-dateutil>=2.7 in c:\\users\\sony\\appdata\\roaming\\python\\python313\\site-packages (from matplotlib) (2.9.0.post0)\n",
      "Requirement already satisfied: scipy>=1.6.0 in c:\\users\\sony\\anaconda3\\lib\\site-packages (from scikit-learn) (1.15.3)\n",
      "Requirement already satisfied: joblib>=1.2.0 in c:\\users\\sony\\anaconda3\\lib\\site-packages (from scikit-learn) (1.4.2)\n",
      "Requirement already satisfied: threadpoolctl>=3.1.0 in c:\\users\\sony\\anaconda3\\lib\\site-packages (from scikit-learn) (3.5.0)\n",
      "Requirement already satisfied: six>=1.5 in c:\\users\\sony\\appdata\\roaming\\python\\python313\\site-packages (from python-dateutil>=2.7->matplotlib) (1.17.0)\n",
      "Downloading opencv_python-4.12.0.88-cp37-abi3-win_amd64.whl (39.0 MB)\n",
      "   ---------------------------------------- 0.0/39.0 MB ? eta -:--:--\n",
      "   - -------------------------------------- 1.3/39.0 MB 9.3 MB/s eta 0:00:05\n",
      "   --- ------------------------------------ 3.7/39.0 MB 10.7 MB/s eta 0:00:04\n",
      "   ------ --------------------------------- 6.0/39.0 MB 10.9 MB/s eta 0:00:04\n",
      "   -------- ------------------------------- 8.4/39.0 MB 11.1 MB/s eta 0:00:03\n",
      "   ---------- ----------------------------- 10.5/39.0 MB 10.8 MB/s eta 0:00:03\n",
      "   ------------- -------------------------- 12.8/39.0 MB 10.9 MB/s eta 0:00:03\n",
      "   --------------- ------------------------ 15.2/39.0 MB 10.9 MB/s eta 0:00:03\n",
      "   ------------------ --------------------- 17.6/39.0 MB 11.0 MB/s eta 0:00:02\n",
      "   -------------------- ------------------- 19.9/39.0 MB 11.0 MB/s eta 0:00:02\n",
      "   ---------------------- ----------------- 22.3/39.0 MB 11.0 MB/s eta 0:00:02\n",
      "   ------------------------- -------------- 24.4/39.0 MB 10.9 MB/s eta 0:00:02\n",
      "   --------------------------- ------------ 26.7/39.0 MB 10.9 MB/s eta 0:00:02\n",
      "   ----------------------------- ---------- 29.1/39.0 MB 10.9 MB/s eta 0:00:01\n",
      "   -------------------------------- ------- 31.7/39.0 MB 11.0 MB/s eta 0:00:01\n",
      "   ---------------------------------- ----- 34.1/39.0 MB 11.0 MB/s eta 0:00:01\n",
      "   ------------------------------------- -- 36.4/39.0 MB 11.0 MB/s eta 0:00:01\n",
      "   ---------------------------------------  38.8/39.0 MB 11.0 MB/s eta 0:00:01\n",
      "   ---------------------------------------  38.8/39.0 MB 11.0 MB/s eta 0:00:01\n",
      "   ---------------------------------------  38.8/39.0 MB 11.0 MB/s eta 0:00:01\n",
      "   ---------------------------------------- 39.0/39.0 MB 9.5 MB/s eta 0:00:00\n",
      "Installing collected packages: opencv-python\n",
      "Successfully installed opencv-python-4.12.0.88\n"
     ]
    }
   ],
   "source": [
    "!pip install opencv-python matplotlib scikit-learn"
   ]
  },
  {
   "cell_type": "code",
   "execution_count": 7,
   "metadata": {},
   "outputs": [],
   "source": [
    "import cv2\n",
    "import numpy as np\n",
    "import matplotlib.pyplot as plt\n",
    "from sklearn.cluster import KMeans\n",
    "\n",
    "# 2. Cargar imagen en escala de grises desde tu ruta\n",
    "ruta_imagen = r\"C:\\Users\\sony\\Desktop\\MAESTRÍA INTELIGENCIA ARTIFICIAL\\3_Aprendizaje Automatico\\Introduccion_Aprendizaje_Automatico_2025\\Modulo3\\Tarea_2\\Imagenes\\instrumentos.png\"\n",
    "img = cv2.imread(ruta_imagen, cv2.IMREAD_GRAYSCALE)\n"
   ]
  },
  {
   "cell_type": "code",
   "execution_count": 17,
   "metadata": {},
   "outputs": [
    {
     "name": "stdout",
     "output_type": "stream",
     "text": [
      "No se pudo cargar la imagen. Verifica la ruta.\n"
     ]
    }
   ],
   "source": [
    "if img is None:\n",
    "    print(\"No se pudo cargar la imagen. Verifica la ruta.\")\n",
    "else:\n",
    "    # 3. Mostrar la imagen original\n",
    "    plt.imshow(img, cmap='gray')\n",
    "    plt.title(\"Imagen original en blanco y negro\")\n",
    "    plt.axis('off')\n",
    "    plt.show()\n",
    "\n",
    "    # 4. Obtener coordenadas de los píxeles negros\n",
    "    umbral = 50  # Ajusta si es necesario\n",
    "    coords = np.column_stack(np.where(img < umbral))\n",
    "    print(f\"Píxeles negros detectados: {len(coords)}\")\n",
    "\n",
    "    \n",
    "    k = 4  \n",
    "    kmeans = KMeans(n_clusters=k, random_state=42)\n",
    "    kmeans.fit(coords)\n",
    "    labels = kmeans.labels_\n"
   ]
  },
  {
   "cell_type": "code",
   "execution_count": 18,
   "metadata": {},
   "outputs": [
    {
     "ename": "NameError",
     "evalue": "name 'k' is not defined",
     "output_type": "error",
     "traceback": [
      "\u001b[31m---------------------------------------------------------------------------\u001b[39m",
      "\u001b[31mNameError\u001b[39m                                 Traceback (most recent call last)",
      "\u001b[36mCell\u001b[39m\u001b[36m \u001b[39m\u001b[32mIn[18]\u001b[39m\u001b[32m, line 3\u001b[39m\n\u001b[32m      1\u001b[39m clustered_img = np.ones_like(img) * \u001b[32m255\u001b[39m  \u001b[38;5;66;03m# Fondo blanco\u001b[39;00m\n\u001b[32m----> \u001b[39m\u001b[32m3\u001b[39m \u001b[38;5;28;01mfor\u001b[39;00m i \u001b[38;5;129;01min\u001b[39;00m \u001b[38;5;28mrange\u001b[39m(\u001b[43mk\u001b[49m):\n\u001b[32m      4\u001b[39m     puntos = coords[labels == i]\n\u001b[32m      5\u001b[39m     \u001b[38;5;28;01mfor\u001b[39;00m y, x \u001b[38;5;129;01min\u001b[39;00m puntos:\n",
      "\u001b[31mNameError\u001b[39m: name 'k' is not defined"
     ]
    }
   ],
   "source": [
    "clustered_img = np.ones_like(img) * 255  # Fondo blanco\n",
    "\n",
    "for i in range(k):\n",
    "    puntos = coords[labels == i]\n",
    "    for y, x in puntos:\n",
    "        clustered_img[y, x] = 50 + i * 40  # Diferentes grises\n",
    "\n",
    "plt.imshow(clustered_img, cmap='gray')\n",
    "plt.title(f\"Agrupamiento con k = {k}\")\n",
    "plt.axis(\"off\")\n",
    "plt.show()\n"
   ]
  },
  {
   "cell_type": "code",
   "execution_count": 16,
   "metadata": {},
   "outputs": [
    {
     "ename": "IndentationError",
     "evalue": "unexpected indent (2614999953.py, line 2)",
     "output_type": "error",
     "traceback": [
      "  \u001b[36mCell\u001b[39m\u001b[36m \u001b[39m\u001b[32mIn[16]\u001b[39m\u001b[32m, line 2\u001b[39m\n\u001b[31m    \u001b[39m\u001b[31mplt.title(f\"Agrupamiento con K = {k}\")\u001b[39m\n    ^\n\u001b[31mIndentationError\u001b[39m\u001b[31m:\u001b[39m unexpected indent\n"
     ]
    }
   ],
   "source": [
    "plt.imshow(clustered_img, cmap='gray')\n",
    "    plt.title(f\"Agrupamiento con K = {k}\")\n",
    "    plt.axis('off')\n",
    "    plt.show()"
   ]
  },
  {
   "cell_type": "code",
   "execution_count": null,
   "metadata": {},
   "outputs": [],
   "source": []
  },
  {
   "cell_type": "code",
   "execution_count": null,
   "metadata": {},
   "outputs": [],
   "source": []
  }
 ],
 "metadata": {
  "anaconda-cloud": {},
  "kernelspec": {
   "display_name": "Python 3 (ipykernel)",
   "language": "python",
   "name": "python3"
  },
  "language_info": {
   "codemirror_mode": {
    "name": "ipython",
    "version": 3
   },
   "file_extension": ".py",
   "mimetype": "text/x-python",
   "name": "python",
   "nbconvert_exporter": "python",
   "pygments_lexer": "ipython3",
   "version": "3.13.5"
  }
 },
 "nbformat": 4,
 "nbformat_minor": 4
}
